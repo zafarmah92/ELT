{
 "cells": [
  {
   "cell_type": "code",
   "execution_count": 1,
   "id": "0e6dcbfd",
   "metadata": {},
   "outputs": [
    {
     "name": "stdout",
     "output_type": "stream",
     "text": [
      "# conda environments:\r\n",
      "#\r\n",
      "base                  *  /Users/zafarmahmood/opt/anaconda3\r\n",
      "airup_39                 /Users/zafarmahmood/opt/anaconda3/envs/airup_39\r\n",
      "dagster                  /Users/zafarmahmood/opt/anaconda3/envs/dagster\r\n",
      "kafka                    /Users/zafarmahmood/opt/anaconda3/envs/kafka\r\n",
      "owner_n_professional     /Users/zafarmahmood/opt/anaconda3/envs/owner_n_professional\r\n",
      "redditbot                /Users/zafarmahmood/opt/anaconda3/envs/redditbot\r\n",
      "\r\n"
     ]
    }
   ],
   "source": [
    "!conda env list"
   ]
  },
  {
   "cell_type": "code",
   "execution_count": null,
   "id": "cff250ac",
   "metadata": {},
   "outputs": [],
   "source": []
  }
 ],
 "metadata": {
  "kernelspec": {
   "display_name": "Python 3 (ipykernel)",
   "language": "python",
   "name": "python3"
  },
  "language_info": {
   "codemirror_mode": {
    "name": "ipython",
    "version": 3
   },
   "file_extension": ".py",
   "mimetype": "text/x-python",
   "name": "python",
   "nbconvert_exporter": "python",
   "pygments_lexer": "ipython3",
   "version": "3.9.7"
  }
 },
 "nbformat": 4,
 "nbformat_minor": 5
}
